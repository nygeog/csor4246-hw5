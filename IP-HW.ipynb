{
 "cells": [
  {
   "cell_type": "markdown",
   "metadata": {},
   "source": [
    "# NP-Hard Problems\n",
    "\n",
    "The purpose of this assignment is to familiarize yourself with different approaches to solving NP-hard problems in practice, especially via integer programming.\n",
    "\n",
    "As in previous assignments, we will use [NetworkX](https://networkx.github.io/) to manipulate graphs and [PuLP](http://pythonhosted.org/PuLP/) to solve linear and integer programs."
   ]
  },
  {
   "cell_type": "code",
   "execution_count": 7,
   "metadata": {
    "collapsed": false
   },
   "outputs": [
    {
     "name": "stdout",
     "output_type": "stream",
     "text": [
      "\n"
     ]
    }
   ],
   "source": [
    "import networkx as nx\n",
    "import pulp"
   ]
  },
  {
   "cell_type": "markdown",
   "metadata": {},
   "source": [
    "We will use two graph datasets for this assignment, both available in [GML](https://en.wikipedia.org/wiki/Graph_Modelling_Language) format. The first is a well-known graph of the social network of a karate club [1]. The second is a network representing the western states power grid in the US [2]."
   ]
  },
  {
   "cell_type": "code",
   "execution_count": 8,
   "metadata": {
    "collapsed": false
   },
   "outputs": [],
   "source": [
    "karate = nx.read_gml('karate.gml')\n",
    "power = nx.read_gml('power.gml')"
   ]
  },
  {
   "cell_type": "markdown",
   "metadata": {},
   "source": [
    "[1] W. Zachary, An information flow model for conflict and fission in small groups, Journal of Anthropological Research 33, 452-473 (1977). \n",
    "\n",
    "[2] D. J. Watts and S. H. Strogatz, Collective dynamics of 'small world' networks, Nature 393, 440-442 (1998). "
   ]
  },
  {
   "cell_type": "markdown",
   "metadata": {},
   "source": [
    "## Independent Set\n",
    "\n",
    "Recall that an *independent set* in a graph is a set of nodes such that no two nodes are adjacent (connected by an edge). Finding the maximum size of an independent set in a graph is an NP-hard problem, so there is no known polynomial-time algorithm to solve it."
   ]
  },
  {
   "cell_type": "markdown",
   "metadata": {},
   "source": [
    "### Problem 1\n",
    "\n",
    "Recall the integer programming formulation for independent set given in class. Implement a function that solves the integer program given a graph as input. (The graph is denoted $G = (V, E)$. For this problem, you should use a binary variable $x_i \\in \\{0,1\\}$ for each node $i \\in N$, and you shouldn't need any other variables."
   ]
  },
  {
   "cell_type": "code",
   "execution_count": 9,
   "metadata": {
    "collapsed": false
   },
   "outputs": [],
   "source": [
    "def independent_set_ip(graph):\n",
    "    \"\"\"Computes the a maximum independent set of a graph using an integer program.\n",
    "    \n",
    "    Args:\n",
    "      - graph (nx.Graph): an undirected graph\n",
    "    \n",
    "    Returns:\n",
    "        (list[(int, int)]) The IP solution as a list of node-value pairs.\n",
    "        \n",
    "    \"\"\"    \n",
    "    # TODO: implement function\n",
    "    pass"
   ]
  },
  {
   "cell_type": "markdown",
   "metadata": {},
   "source": [
    "The following code outputs the size of the sets computed by your function."
   ]
  },
  {
   "cell_type": "code",
   "execution_count": 10,
   "metadata": {
    "collapsed": false
   },
   "outputs": [],
   "source": [
    "def set_weight(solution):\n",
    "    \"\"\"Computes the total weight of the solution of an LP or IP for independent set.\n",
    "    \n",
    "    Args:\n",
    "      - solution (list[int, float]): the LP or IP solution\n",
    "    \n",
    "    Returns:\n",
    "      (float) Total weight of the solution\n",
    "    \n",
    "    \"\"\"\n",
    "    return sum(value for (node, value) in solution)"
   ]
  },
  {
   "cell_type": "code",
   "execution_count": 11,
   "metadata": {
    "collapsed": false
   },
   "outputs": [
    {
     "name": "stdout",
     "output_type": "stream",
     "text": [
      "Size of karate set = "
     ]
    },
    {
     "ename": "TypeError",
     "evalue": "'NoneType' object is not iterable",
     "output_type": "error",
     "traceback": [
      "\u001b[0;31m---------------------------------------------------------------------------\u001b[0m",
      "\u001b[0;31mTypeError\u001b[0m                                 Traceback (most recent call last)",
      "\u001b[0;32m<ipython-input-11-fc0eceaa57df>\u001b[0m in \u001b[0;36m<module>\u001b[0;34m()\u001b[0m\n\u001b[1;32m      1\u001b[0m \u001b[0mkarate_ind_set\u001b[0m \u001b[0;34m=\u001b[0m \u001b[0mindependent_set_ip\u001b[0m\u001b[0;34m(\u001b[0m\u001b[0mkarate\u001b[0m\u001b[0;34m)\u001b[0m\u001b[0;34m\u001b[0m\u001b[0m\n\u001b[0;32m----> 2\u001b[0;31m \u001b[0;32mprint\u001b[0m \u001b[0;34m\"Size of karate set = \"\u001b[0m\u001b[0;34m,\u001b[0m \u001b[0mset_weight\u001b[0m\u001b[0;34m(\u001b[0m\u001b[0mkarate_ind_set\u001b[0m\u001b[0;34m)\u001b[0m\u001b[0;34m\u001b[0m\u001b[0m\n\u001b[0m\u001b[1;32m      3\u001b[0m \u001b[0mpower_ind_set\u001b[0m \u001b[0;34m=\u001b[0m \u001b[0mindependent_set_ip\u001b[0m\u001b[0;34m(\u001b[0m\u001b[0mpower\u001b[0m\u001b[0;34m)\u001b[0m\u001b[0;34m\u001b[0m\u001b[0m\n\u001b[1;32m      4\u001b[0m \u001b[0;32mprint\u001b[0m \u001b[0;34m\"Size of power set = \"\u001b[0m\u001b[0;34m,\u001b[0m \u001b[0mset_weight\u001b[0m\u001b[0;34m(\u001b[0m\u001b[0mpower_ind_set\u001b[0m\u001b[0;34m)\u001b[0m\u001b[0;34m\u001b[0m\u001b[0m\n",
      "\u001b[0;32m<ipython-input-10-84ae48f6a398>\u001b[0m in \u001b[0;36mset_weight\u001b[0;34m(solution)\u001b[0m\n\u001b[1;32m      9\u001b[0m \u001b[0;34m\u001b[0m\u001b[0m\n\u001b[1;32m     10\u001b[0m     \"\"\"\n\u001b[0;32m---> 11\u001b[0;31m     \u001b[0;32mreturn\u001b[0m \u001b[0msum\u001b[0m\u001b[0;34m(\u001b[0m\u001b[0mvalue\u001b[0m \u001b[0;32mfor\u001b[0m \u001b[0;34m(\u001b[0m\u001b[0mnode\u001b[0m\u001b[0;34m,\u001b[0m \u001b[0mvalue\u001b[0m\u001b[0;34m)\u001b[0m \u001b[0;32min\u001b[0m \u001b[0msolution\u001b[0m\u001b[0;34m)\u001b[0m\u001b[0;34m\u001b[0m\u001b[0m\n\u001b[0m",
      "\u001b[0;31mTypeError\u001b[0m: 'NoneType' object is not iterable"
     ]
    }
   ],
   "source": [
    "karate_ind_set = independent_set_ip(karate)\n",
    "print \"Size of karate set = \", set_weight(karate_ind_set)\n",
    "power_ind_set = independent_set_ip(power)\n",
    "print \"Size of power set = \", set_weight(power_ind_set)"
   ]
  },
  {
   "cell_type": "markdown",
   "metadata": {},
   "source": [
    "### Problem 2\n",
    "\n",
    "Take the *linear programming relaxation* of your integer program and implement a function to solve it. This simply means that in your integer program, you should replace each constraint $x_i \\in \\{0,1\\}$ with $0 \\leq x_i \\leq 1$ (see also your slides from 11/19). "
   ]
  },
  {
   "cell_type": "code",
   "execution_count": null,
   "metadata": {
    "collapsed": false
   },
   "outputs": [],
   "source": [
    "def independent_set_lp(graph):\n",
    "    \"\"\"Computes the solution to the linear programming relaxation for the\n",
    "    maximum independent set problem.\n",
    "    \n",
    "    Args:\n",
    "      - graph (nx.Graph): an undirected graph\n",
    "    \n",
    "    Returns:\n",
    "        (list[(int, float)]) The LP solution as a list of node-value pairs.\n",
    "        \n",
    "    \"\"\"    \n",
    "    # TODO: implement function\n",
    "    pass"
   ]
  },
  {
   "cell_type": "markdown",
   "metadata": {},
   "source": [
    "Let's see how the LP solutions compare to those of the IP."
   ]
  },
  {
   "cell_type": "code",
   "execution_count": null,
   "metadata": {
    "collapsed": false
   },
   "outputs": [],
   "source": [
    "karate_ind_set_relax = independent_set_lp(karate)\n",
    "print \"Value of karate set = \", set_weight(karate_ind_set_relax)\n",
    "power_ind_set_relax = independent_set_lp(power)\n",
    "print \"Value of power set = \", set_weight(power_ind_set_relax)"
   ]
  },
  {
   "cell_type": "markdown",
   "metadata": {},
   "source": [
    "A heuristic way to convert a fractional solution to an independent set is as follows. For each node $i$, include the node in the set if $x_i > 1/2$, and discard it otherwise. This will yield a set of $a$ nodes which have $b$ edges between them. If we remove at most one node for every edge, then we obtain an independent set of size at least $\\max\\{a - b, 0\\}$."
   ]
  },
  {
   "cell_type": "markdown",
   "metadata": {},
   "source": [
    "Implement this rounding procedure."
   ]
  },
  {
   "cell_type": "code",
   "execution_count": null,
   "metadata": {
    "collapsed": false
   },
   "outputs": [],
   "source": [
    "def round_solution(solution, graph):\n",
    "    \"\"\"Finds the subgraph corresponding to the rounding of\n",
    "    a solution to the independent set LP relaxation.\n",
    "    \n",
    "    Args:\n",
    "      - solution (list[(int, float)]): LP solution\n",
    "      - graph (nx.Graph): the original graph\n",
    "      \n",
    "    Returns:\n",
    "        (nx.Graph) The subgraph corresponding to rounded solution\n",
    "    \n",
    "    \"\"\"\n",
    "    # TODO: implement function\n",
    "    pass"
   ]
  },
  {
   "cell_type": "markdown",
   "metadata": {},
   "source": [
    "The following function assesses the quality of the heuristic approach."
   ]
  },
  {
   "cell_type": "code",
   "execution_count": null,
   "metadata": {
    "collapsed": false
   },
   "outputs": [],
   "source": [
    "def solution_quality(rounded, optimal):\n",
    "    \"\"\"Computes the percent optimality of the rounded solution.\n",
    "    \n",
    "    Args:\n",
    "      - rounded (nx.Graph): the graph obtained from rounded LP solution\n",
    "      - optimal: size of maximum independent set\n",
    "    \n",
    "    \"\"\"\n",
    "    num_nodes = rounded.number_of_nodes() - rounded.number_of_edges()\n",
    "    return float(num_nodes) / optimal"
   ]
  },
  {
   "cell_type": "markdown",
   "metadata": {},
   "source": [
    "Let's check the quality of this approach compared to the optimal IP solutions."
   ]
  },
  {
   "cell_type": "code",
   "execution_count": null,
   "metadata": {
    "collapsed": false
   },
   "outputs": [],
   "source": [
    "karate_rounded = round_solution(karate_ind_set_relax, karate)\n",
    "karate_quality = solution_quality(karate_rounded, set_weight(karate_ind_set))\n",
    "print \"Quality of karate rounded solution = {:.0f}%\".format(karate_quality*100)\n",
    "\n",
    "power_rounded = round_solution(power_ind_set_relax, power)\n",
    "power_quality = solution_quality(power_rounded, set_weight(power_ind_set))\n",
    "print \"Quality of power rounded solution = {:.0f}%\".format(power_quality*100)"
   ]
  }
 ],
 "metadata": {
  "kernelspec": {
   "display_name": "Python 2",
   "language": "python",
   "name": "python2"
  },
  "language_info": {
   "codemirror_mode": {
    "name": "ipython",
    "version": 2
   },
   "file_extension": ".py",
   "mimetype": "text/x-python",
   "name": "python",
   "nbconvert_exporter": "python",
   "pygments_lexer": "ipython2",
   "version": "2.7.10"
  }
 },
 "nbformat": 4,
 "nbformat_minor": 0
}
